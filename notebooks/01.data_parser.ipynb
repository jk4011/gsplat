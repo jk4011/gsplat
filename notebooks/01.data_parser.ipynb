{
 "cells": [
  {
   "cell_type": "code",
   "execution_count": null,
   "metadata": {},
   "outputs": [],
   "source": [
    "%load_ext autoreload\n",
    "%autoreload 2\n",
    "%matplotlib inline\n",
    "\n",
    "import os\n",
    "os.chdir('../')\n",
    "os.environ['CUDA_VISIBLE_DEVICES'] = '2'\n",
    "\n",
    "import sys\n",
    "sys.path.append('examples')\n",
    "\n",
    "import jhutil; jhutil.color_log(1111, )"
   ]
  },
  {
   "cell_type": "markdown",
   "metadata": {},
   "source": [
    "# Don't Unfold!"
   ]
  },
  {
   "cell_type": "code",
   "execution_count": 2,
   "metadata": {},
   "outputs": [],
   "source": [
    "import sys\n",
    "sys.argv = [\n",
    "    \"examples/simple_trainer.py\",\n",
    "    \"default\",\n",
    "    \"--data_dir\",\n",
    "    \"data/360_v2/garden/\",\n",
    "    \"--data_factor\",\n",
    "    \"4\",\n",
    "    \"--port\",\n",
    "    \"8082\",\n",
    "    \"--result_dir\",\n",
    "    \"./results/garden\",\n",
    "]"
   ]
  },
  {
   "cell_type": "code",
   "execution_count": 3,
   "metadata": {},
   "outputs": [],
   "source": [
    "import json\n",
    "import math\n",
    "import os\n",
    "import time\n",
    "from dataclasses import dataclass, field\n",
    "from collections import defaultdict\n",
    "from typing import Dict, List, Optional, Tuple, Union\n",
    "\n",
    "import imageio\n",
    "import nerfview\n",
    "import numpy as np\n",
    "import torch\n",
    "import torch.nn.functional as F\n",
    "import tqdm\n",
    "import tyro\n",
    "import viser\n",
    "import yaml\n",
    "from datasets.colmap import Dataset, Parser\n",
    "from datasets.traj import (\n",
    "    generate_interpolated_path,\n",
    "    generate_ellipse_path_z,\n",
    "    generate_spiral_path,\n",
    ")\n",
    "from torch import Tensor\n",
    "from torch.nn.parallel import DistributedDataParallel as DDP\n",
    "from torch.utils.tensorboard import SummaryWriter\n",
    "from torchmetrics.image import PeakSignalNoiseRatio, StructuralSimilarityIndexMeasure\n",
    "from fused_ssim import fused_ssim\n",
    "from torchmetrics.image.lpip import LearnedPerceptualImagePatchSimilarity\n",
    "from typing_extensions import Literal, assert_never\n",
    "from utils import AppearanceOptModule, CameraOptModule, knn, rgb_to_sh, set_random_seed\n",
    "from lib_bilagrid import (\n",
    "    BilateralGrid,\n",
    "    slice,\n",
    "    color_correct,\n",
    "    total_variation_loss,\n",
    ")\n",
    "\n",
    "from gsplat.compression import PngCompression\n",
    "from gsplat.distributed import cli\n",
    "from gsplat.rendering import rasterization\n",
    "from gsplat.strategy import DefaultStrategy, MCMCStrategy"
   ]
  },
  {
   "cell_type": "code",
   "execution_count": null,
   "metadata": {},
   "outputs": [],
   "source": [
    "\n",
    "from gsplat.strategy import DefaultStrategy, MCMCStrategy\n",
    "import tyro\n",
    "from simple_trainer import Config\n",
    "\n",
    "configs = {\n",
    "    \"default\": (\n",
    "        \"Gaussian splatting training using densification heuristics from the original paper.\",\n",
    "        Config(\n",
    "            strategy=DefaultStrategy(verbose=True),\n",
    "        ),\n",
    "    ),\n",
    "    \"mcmc\": (\n",
    "        \"Gaussian splatting training using densification from the paper '3D Gaussian Splatting as Markov Chain Monte Carlo'.\",\n",
    "        Config(\n",
    "            init_opa=0.5,\n",
    "            init_scale=0.1,\n",
    "            opacity_reg=0.01,\n",
    "            scale_reg=0.01,\n",
    "            strategy=MCMCStrategy(verbose=True),\n",
    "        ),\n",
    "    ),\n",
    "}\n",
    "cfg = tyro.extras.overridable_config_cli(configs)\n",
    "cfg.adjust_steps(cfg.steps_scaler)"
   ]
  },
  {
   "cell_type": "markdown",
   "metadata": {},
   "source": [
    "# ."
   ]
  },
  {
   "cell_type": "code",
   "execution_count": null,
   "metadata": {},
   "outputs": [],
   "source": [
    "from datasets.colmap import Dataset, Parser\n",
    "\n",
    "parser = Parser(\n",
    "    data_dir=cfg.data_dir,\n",
    "    factor=cfg.data_factor,\n",
    "    normalize=cfg.normalize_world_space,\n",
    "    test_every=cfg.test_every,\n",
    ")"
   ]
  },
  {
   "cell_type": "code",
   "execution_count": null,
   "metadata": {},
   "outputs": [],
   "source": [
    "# extrinsic\n",
    "# R, tvec, camera_id 가 필요함.\n",
    "dir(parser.manager.images[1])"
   ]
  },
  {
   "cell_type": "code",
   "execution_count": null,
   "metadata": {},
   "outputs": [],
   "source": [
    "# intrinsic\n",
    "# fx, fy, cx, cy, camera_type, width, height가 필요함\n",
    "dir(parser.manager.cameras[1])"
   ]
  },
  {
   "cell_type": "code",
   "execution_count": null,
   "metadata": {},
   "outputs": [],
   "source": []
  }
 ],
 "metadata": {
  "kernelspec": {
   "display_name": "gsplat",
   "language": "python",
   "name": "python3"
  },
  "language_info": {
   "codemirror_mode": {
    "name": "ipython",
    "version": 3
   },
   "file_extension": ".py",
   "mimetype": "text/x-python",
   "name": "python",
   "nbconvert_exporter": "python",
   "pygments_lexer": "ipython3",
   "version": "3.10.15"
  }
 },
 "nbformat": 4,
 "nbformat_minor": 2
}
