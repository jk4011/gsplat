{
 "cells": [
  {
   "cell_type": "code",
   "execution_count": null,
   "metadata": {},
   "outputs": [],
   "source": [
    "%load_ext autoreload\n",
    "%autoreload 2\n",
    "%matplotlib inline\n",
    "\n",
    "import os\n",
    "os.chdir('../')\n",
    "os.environ['CUDA_VISIBLE_DEVICES'] = '2'\n",
    "\n",
    "import sys\n",
    "sys.path.append('examples')\n",
    "\n",
    "import jhutil; jhutil.color_log(1111, )"
   ]
  },
  {
   "cell_type": "markdown",
   "metadata": {},
   "source": [
    "# Don't Unfold!"
   ]
  },
  {
   "cell_type": "markdown",
   "metadata": {},
   "source": [
    "# ."
   ]
  },
  {
   "cell_type": "code",
   "execution_count": null,
   "metadata": {},
   "outputs": [],
   "source": [
    "\n",
    "from datasets.diva360 import SceneManagerDiva360\n",
    "from jhutil.cam_viewer import get_example_datas, visualize_camera\n",
    "import numpy as np\n",
    "import json\n",
    "from jhutil import color_log, load_img\n",
    "\n",
    "def load_extrinsics_from_json(json_path):\n",
    "    \n",
    "    data_folder = os.path.dirname(json_path)\n",
    "    with open(json_path, \"r\") as file:\n",
    "        data = json.load(file)\n",
    "        \n",
    "    frames = data.get(\"frames\", [])\n",
    "\n",
    "    poses = []\n",
    "    images = []\n",
    "    for camera_id, frame in enumerate(frames, 1):\n",
    "        pose = np.array(frame.get(\"transform_matrix\", []))\n",
    "        poses.append(pose)\n",
    "        \n",
    "        file_path = frame.get(\"file_path\", \"\")\n",
    "        file_path = file_path.replace(\"undist/\", \"\")\n",
    "        file_path = file_path.replace(\"/\", \"_\")\n",
    "        file_path = os.path.join(data_folder, \"images\", file_path)\n",
    "        img = load_img(file_path)\n",
    "        images.append(img[:, ::5, ::5])\n",
    "    return poses, images\n",
    "\n",
    "# Example usage\n",
    "if __name__ == \"__main__\":\n",
    "    data_folder = \"/data2/wlsgur4011/gsplat/data/Diva360_data/3dgs_data/penguin\"\n",
    "    json_path = os.path.join(data_folder, \"transforms_train.json\")\n",
    "    poses, images = load_extrinsics_from_json(json_path)\n",
    "    visualize_camera(poses, images=images)\n",
    "    \n"
   ]
  },
  {
   "cell_type": "code",
   "execution_count": null,
   "metadata": {},
   "outputs": [],
   "source": [
    "\n",
    "from datasets.diva360 import SceneManagerDiva360\n",
    "\n",
    "poses, legends, colors, images = get_example_datas()\n",
    "visualize_camera(poses, images=images)"
   ]
  },
  {
   "cell_type": "code",
   "execution_count": null,
   "metadata": {},
   "outputs": [],
   "source": []
  }
 ],
 "metadata": {
  "kernelspec": {
   "display_name": "gsplat",
   "language": "python",
   "name": "python3"
  },
  "language_info": {
   "codemirror_mode": {
    "name": "ipython",
    "version": 3
   },
   "file_extension": ".py",
   "mimetype": "text/x-python",
   "name": "python",
   "nbconvert_exporter": "python",
   "pygments_lexer": "ipython3",
   "version": "3.10.15"
  }
 },
 "nbformat": 4,
 "nbformat_minor": 2
}
