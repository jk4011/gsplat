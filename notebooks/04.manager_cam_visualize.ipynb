{
 "cells": [
  {
   "cell_type": "code",
   "execution_count": null,
   "metadata": {},
   "outputs": [],
   "source": [
    "%load_ext autoreload\n",
    "%autoreload 2\n",
    "%matplotlib inline\n",
    "\n",
    "import os\n",
    "os.chdir('../')\n",
    "os.environ['CUDA_VISIBLE_DEVICES'] = '2'\n",
    "\n",
    "import sys\n",
    "sys.path.append('examples')\n",
    "\n",
    "import jhutil; jhutil.color_log(1111, )"
   ]
  },
  {
   "cell_type": "markdown",
   "metadata": {},
   "source": [
    "# Nerf360"
   ]
  },
  {
   "cell_type": "code",
   "execution_count": null,
   "metadata": {},
   "outputs": [],
   "source": [
    "from pycolmap.scene_manager import SceneManager\n",
    "\n",
    "colmap_dir = \"data/360_v2/garden/sparse/0/\"\n",
    "manager = SceneManager(colmap_dir)\n",
    "manager.load_images()"
   ]
  },
  {
   "cell_type": "code",
   "execution_count": 3,
   "metadata": {},
   "outputs": [],
   "source": [
    "from jhutil.cam_viewer import get_example_datas, visualize_camera\n",
    "import numpy as np\n",
    "from jhutil import load_img\n",
    "\n",
    "def qvec_to_rotmat(qvec):\n",
    "\treturn np.array([\n",
    "\t\t[\n",
    "\t\t\t1 - 2 * qvec[2]**2 - 2 * qvec[3]**2,\n",
    "\t\t\t2 * qvec[1] * qvec[2] - 2 * qvec[0] * qvec[3],\n",
    "\t\t\t2 * qvec[3] * qvec[1] + 2 * qvec[0] * qvec[2]\n",
    "\t\t], [\n",
    "\t\t\t2 * qvec[1] * qvec[2] + 2 * qvec[0] * qvec[3],\n",
    "\t\t\t1 - 2 * qvec[1]**2 - 2 * qvec[3]**2,\n",
    "\t\t\t2 * qvec[2] * qvec[3] - 2 * qvec[0] * qvec[1]\n",
    "\t\t], [\n",
    "\t\t\t2 * qvec[3] * qvec[1] - 2 * qvec[0] * qvec[2],\n",
    "\t\t\t2 * qvec[2] * qvec[3] + 2 * qvec[0] * qvec[1],\n",
    "\t\t\t1 - 2 * qvec[1]**2 - 2 * qvec[2]**2\n",
    "\t\t]\n",
    "\t])\n",
    "\n",
    "def colmap_to_c2w(qvec, tvec):\n",
    "    rot = qvec_to_rotmat(-qvec)\n",
    "    \n",
    "    w2c = np.eye(4)\n",
    "    w2c[:3, :3] = rot\n",
    "    w2c[:3, -1] = tvec\n",
    "    c2w = np.linalg.inv(w2c)\n",
    "\n",
    "    c2w[0:3,2] *= -1 # flip the y and z axis\n",
    "    c2w[0:3,1] *= -1\n",
    "    c2w = c2w[[1,0,2,3],:]\n",
    "    c2w[2,:] *= -1 # flip whole world upside down\n",
    "    \n",
    "    return c2w\n",
    "\n",
    "\n",
    "def visualize_cam_from_manager(manager, is_colmap=False, downsample=1, show_image=True, camera_scale=1):\n",
    "    transforms = []\n",
    "    if show_image:\n",
    "        images = []\n",
    "    else:\n",
    "        images = None\n",
    "    for i in range(len(manager.images)):\n",
    "        if i % downsample != 0:\n",
    "            continue\n",
    "        qvec = manager.images[i + 1].q.q\n",
    "        tvec = manager.images[i + 1].t * camera_scale\n",
    "        \n",
    "        c2w = colmap_to_c2w(qvec.copy(), tvec.copy())\n",
    "        transforms.append(c2w)\n",
    "        \n",
    "        if is_colmap:\n",
    "            img_path = os.path.join(colmap_dir, \"../../\", \"images_8\", manager.images[i + 1].name)\n",
    "        else:\n",
    "            img_path = os.path.join(os.path.dirname(json_path), \"images\", manager.images[i + 1].name)\n",
    "\n",
    "        if show_image:\n",
    "            img = load_img(img_path)\n",
    "            images.append(img)\n",
    "\n",
    "    visualize_camera(transforms, images=images, scene_size=5)\n",
    "\n",
    "# visualize_cam_from_manager(manager, is_colmap=True, downsample=10)"
   ]
  },
  {
   "cell_type": "markdown",
   "metadata": {},
   "source": [
    "# Diva360"
   ]
  },
  {
   "cell_type": "code",
   "execution_count": 4,
   "metadata": {},
   "outputs": [],
   "source": [
    "from datasets.diva360 import SceneManagerDiva360\n",
    "\n",
    "json_path = \"/data2/wlsgur4011/GESI/gsplat/data/Diva360_data/3dgs_data/penguin_0217/cameras.json\"\n",
    "diva_manager = SceneManagerDiva360(json_path)\n",
    "diva_manager.load_cameras_from_json()\n",
    "diva_manager.load_extrinsics_from_json()\n",
    "diva_manager.genrate_random_points3D()\n",
    "\n",
    "# visualize_cam_from_manager(diva_manager, is_colmap=False, downsample=1, show_image=False)"
   ]
  },
  {
   "cell_type": "markdown",
   "metadata": {},
   "source": [
    "# Artemis"
   ]
  },
  {
   "cell_type": "code",
   "execution_count": null,
   "metadata": {},
   "outputs": [],
   "source": [
    "from datasets.dfa import SceneManagerDFA\n",
    "\n",
    "artemis_manager = SceneManagerDFA()\n",
    "\n",
    "artemis_manager.load_cameras()\n",
    "artemis_manager.load_extrinsics()\n",
    "artemis_manager.genrate_random_points3D()\n",
    "\n",
    "visualize_cam_from_manager(artemis_manager, is_colmap=False, downsample=2, show_image=True, camera_scale=3)"
   ]
  },
  {
   "cell_type": "code",
   "execution_count": null,
   "metadata": {},
   "outputs": [],
   "source": [
    "import numpy as np\n",
    "a = np.zeros((3, 4))\n",
    "a[[0, 1], :]"
   ]
  },
  {
   "cell_type": "code",
   "execution_count": null,
   "metadata": {},
   "outputs": [],
   "source": []
  },
  {
   "cell_type": "code",
   "execution_count": null,
   "metadata": {},
   "outputs": [],
   "source": []
  },
  {
   "cell_type": "code",
   "execution_count": null,
   "metadata": {},
   "outputs": [],
   "source": []
  }
 ],
 "metadata": {
  "kernelspec": {
   "display_name": "gsplat",
   "language": "python",
   "name": "python3"
  },
  "language_info": {
   "codemirror_mode": {
    "name": "ipython",
    "version": 3
   },
   "file_extension": ".py",
   "mimetype": "text/x-python",
   "name": "python",
   "nbconvert_exporter": "python",
   "pygments_lexer": "ipython3",
   "version": "3.10.15"
  }
 },
 "nbformat": 4,
 "nbformat_minor": 2
}
